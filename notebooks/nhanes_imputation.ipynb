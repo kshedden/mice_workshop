{
 "cells": [
  {
   "cell_type": "markdown",
   "metadata": {},
   "source": [
    "# Analyzing missing data in Python Statsmodels, a case study with the NHANES data"
   ]
  },
  {
   "cell_type": "markdown",
   "metadata": {},
   "source": [
    "This notebook demonstrates several techniques for working with\n",
    "missing data in Python, using the Statsmodels library.  The methods\n",
    "are illustrated using data from the\n",
    "NHANES (National Health and Nutrition Examination Study)."
   ]
  },
  {
   "cell_type": "markdown",
   "metadata": {},
   "source": [
    "First we import the libraries that we will be using."
   ]
  },
  {
   "cell_type": "code",
   "execution_count": 1,
   "metadata": {},
   "outputs": [
    {
     "name": "stderr",
     "output_type": "stream",
     "text": [
      "/nfs/kshedden/python3/lib/python3.7/site-packages/statsmodels/compat/pandas.py:23: FutureWarning: The Panel class is removed from pandas. Accessing it from the top-level namespace will also be removed in the next version\n",
      "  data_klasses = (pandas.Series, pandas.DataFrame, pandas.Panel)\n"
     ]
    }
   ],
   "source": [
    "import matplotlib.pyplot as plt\n",
    "import seaborn as sns\n",
    "import pandas as pd\n",
    "import statsmodels.api as sm\n",
    "import numpy as np\n",
    "from statsmodels.imputation import mice\n",
    "from statsmodels.imputation.bayes_mi import BayesGaussMI, MI"
   ]
  },
  {
   "cell_type": "markdown",
   "metadata": {},
   "source": [
    "Next we will load the data.  The NHANES study encompasses multiple\n",
    "waves of data collection.  Here we will only use the 2015-2016 data."
   ]
  },
  {
   "cell_type": "code",
   "execution_count": 2,
   "metadata": {},
   "outputs": [],
   "source": [
    "url = \"https://raw.githubusercontent.com/kshedden/statswpy/master/NHANES/merged/nhanes_2015_2016.csv\"\n",
    "da = pd.read_csv(url)\n",
    "\n",
    "# Retain a subset of columns for use below.\n",
    "vars = [\"BPXSY1\", \"RIDAGEYR\", \"RIAGENDR\", \"RIDRETH1\", \"DMDEDUC2\", \"BMXBMI\", \"SMQ020\"]"
   ]
  },
  {
   "cell_type": "markdown",
   "metadata": {},
   "source": [
    "# Multiple imputation"
   ]
  },
  {
   "cell_type": "markdown",
   "metadata": {},
   "source": [
    "Here we demonstrate how to use multiple imputation to estimate a\n",
    "correlation coefficient when some data values are missing.  Blood\n",
    "pressure and BMI are expected to be positively related, and we\n",
    "estimate the correlation between them below.  A thorough understanding\n",
    "of the relationship between blood pressure and BMI should consider\n",
    "gender, BMI, and other possibly relevant factors.  But for illustration,\n",
    "we focus here on the simple unadjusted correlation.\n",
    "\n",
    "In the next cell, we determine how many values of these variables are missing:"
   ]
  },
  {
   "cell_type": "code",
   "execution_count": 3,
   "metadata": {},
   "outputs": [
    {
     "name": "stdout",
     "output_type": "stream",
     "text": [
      "(5735, 2)\n",
      "BPXSY1    334\n",
      "BMXBMI     73\n",
      "dtype: int64\n",
      "19\n"
     ]
    }
   ],
   "source": [
    "dx = da.loc[:, [\"BPXSY1\", \"BMXBMI\"]]\n",
    "\n",
    "# Size of all data, including missing values\n",
    "print(dx.shape)\n",
    "\n",
    "# Number of missing values for each variable\n",
    "print(pd.isnull(dx).sum(0))\n",
    "\n",
    "# Number of cases that are missing both variables\n",
    "print(pd.isnull(dx).prod(1).sum(0))"
   ]
  },
  {
   "cell_type": "markdown",
   "metadata": {},
   "source": [
    "Next, for comparison purposes, we estimate the correlation\n",
    "coefficient and its standard error using \"complete case\" analysis:"
   ]
  },
  {
   "cell_type": "code",
   "execution_count": 4,
   "metadata": {},
   "outputs": [
    {
     "name": "stdout",
     "output_type": "stream",
     "text": [
      "Complete case estimate:       0.135201\n",
      "Complete case standard error: 0.013676\n",
      "\n"
     ]
    }
   ],
   "source": [
    "dd = dx.dropna()\n",
    "c = np.cov(dd.T)\n",
    "\n",
    "r_cc = c[0, 1] / np.sqrt(c[0, 0] * c[1, 1])\n",
    "print(\"Complete case estimate:       %f\" % r_cc)\n",
    "print(\"Complete case standard error: %f\\n\" % (1 / np.sqrt(dd.shape[0])))"
   ]
  },
  {
   "cell_type": "markdown",
   "metadata": {},
   "source": [
    "Now we are ready to use multiple imputation.  Statsmodels provides a\n",
    "Bayesian imputation framework using the Gaussian distribution (we\n",
    "will explore other ways to do imputation later).\n",
    "\n",
    "Like most Bayesian methods, this approach utilizes prior\n",
    "distributions on the structural parameters of the model.  If the\n",
    "data are approximately standardized (i.e. have zero mean and unit\n",
    "variance), then the default priors should work fine.  But BMI and\n",
    "blood pressure are measured on scales with values ranging from\n",
    "around 10 to 200.  Therefore, we scale the prior covariance matrices\n",
    "accordingly.\n",
    "\n",
    "To use this approach, we first construct an imputation object and\n",
    "\"burn\" it in."
   ]
  },
  {
   "cell_type": "code",
   "execution_count": 5,
   "metadata": {},
   "outputs": [],
   "source": [
    "bm = BayesGaussMI(dx, mean_prior=100*np.eye(2), cov_prior=100*np.eye(2))\n",
    "\n",
    "for k in range(100):\n",
    "    bm.update()"
   ]
  },
  {
   "cell_type": "markdown",
   "metadata": {},
   "source": [
    "Now we are ready to draw samples from the imputation object, and use\n",
    "these samples to estimate the unknown parameter of interest (the correlation\n",
    "between blood pressure and BMI)."
   ]
  },
  {
   "cell_type": "code",
   "execution_count": 6,
   "metadata": {},
   "outputs": [],
   "source": [
    "rv = []\n",
    "for k in range(200):\n",
    "    bm.update()\n",
    "\n",
    "    # After calling bm.update, we can access bm.mean and bm.cov,\n",
    "    # which are draws from the posterior distribution of the\n",
    "    # Gaussian mean and covariance parameters given the data.\n",
    "    # We can also access the underlying data frame dx, which\n",
    "    # has now been imputed so that there are no missing values.\n",
    "    r = bm.cov[0, 1] / np.sqrt(bm.cov[0, 0] * bm.cov[1, 1])\n",
    "\n",
    "    rv.append(r)\n",
    "\n",
    "rv = np.asarray(rv)"
   ]
  },
  {
   "cell_type": "markdown",
   "metadata": {},
   "source": [
    "Based on these posterior samples, we can estimate the posterior mean and\n",
    "posterior variance of the correlation coefficient between BMI and\n",
    "blood pressure."
   ]
  },
  {
   "cell_type": "code",
   "execution_count": 7,
   "metadata": {},
   "outputs": [
    {
     "name": "stdout",
     "output_type": "stream",
     "text": [
      "Mean:  0.13646846202360918\n",
      "SD:    0.013897382582866182\n"
     ]
    }
   ],
   "source": [
    "print(\"Mean: \", rv.mean())\n",
    "print(\"SD:   \", rv.std())"
   ]
  },
  {
   "cell_type": "markdown",
   "metadata": {},
   "source": [
    "We can also view the histogram of the draws from the posterior\n",
    "distribution."
   ]
  },
  {
   "cell_type": "code",
   "execution_count": 8,
   "metadata": {},
   "outputs": [
    {
     "data": {
      "image/png": "[encoded data removed]",
      "text/plain": [
       "<Figure size 432x288 with 1 Axes>"
      ]
     },
     "metadata": {
      "needs_background": "light"
     },
     "output_type": "display_data"
    }
   ],
   "source": [
    "_ = plt.hist(rv, bins=15, alpha=0.5)"
   ]
  },
  {
   "cell_type": "markdown",
   "metadata": {},
   "source": [
    "# Simulation study to assess \"information\" in partially observed records"
   ]
  },
  {
   "cell_type": "markdown",
   "metadata": {},
   "source": [
    "Next we use a small simulation study to better understand the\n",
    "performance characteristics of this type of multiple imputation.  We\n",
    "take the NHANES data for BMI and blood and introduce increasingly\n",
    "greater fractions of missing values into the data.  Then we use\n",
    "multiple imputation (MI) and complete case analysis to estimate the\n",
    "correlation coefficient between blood pressure and BMI, and the\n",
    "standard error of this statistic."
   ]
  },
  {
   "cell_type": "code",
   "execution_count": 9,
   "metadata": {},
   "outputs": [
    {
     "name": "stdout",
     "output_type": "stream",
     "text": [
      "0.1294361670803976 0.016092986661808424 0.016534008228581126\n"
     ]
    },
    {
     "name": "stdout",
     "output_type": "stream",
     "text": [
      "0.1435750916781924 0.020289440775454495 0.022107884414269093\n"
     ]
    },
    {
     "name": "stdout",
     "output_type": "stream",
     "text": [
      "0.15221923818886549 0.03388342050090585 0.032879797461071454\n"
     ]
    }
   ],
   "source": [
    "for f in 0.2, 0.4, 0.6:\n",
    "\n",
    "    # Introduce missing values, at rate equal to f.\n",
    "\tdy = dx.copy()\n",
    "\tfor j in 0, 1:\n",
    "\t\tii = np.flatnonzero(np.random.uniform(size=dy.shape[0]) < f)\n",
    "\t\tdy.iloc[ii, j] = np.nan\n",
    "\n",
    "\t# Complete cases\n",
    "\tdc = dy.dropna()\n",
    "\n",
    "    # Set up an imputer\n",
    "\tbm = BayesGaussMI(dy, mean_prior=100*np.eye(2), cov_prior=100*np.eye(2))\n",
    "\n",
    "    # Burn in the imputer\n",
    "\tfor k in range(100):\n",
    "\t    bm.update()\n",
    "\n",
    "    # Generate 200 samples from the posterior distribution of the\n",
    "    # covariance matrix\n",
    "\trv = []\n",
    "\tfor k in range(200):\n",
    "\t    bm.update()\n",
    "\t    r = bm.cov[0, 1] / np.sqrt(bm.cov[0, 0] * bm.cov[1, 1])\n",
    "\t    rv.append(r)\n",
    "\trv = np.asarray(rv)\n",
    "\n",
    "    # The mean and standard deviation based on the multiply\n",
    "    # imputed data, and the standard deviation for complete\n",
    "    # case analysis (which is computed theoretically as\n",
    "    # 1/sqrt(sample size)).\n",
    "\tprint(rv.mean(), rv.std(), 1/np.sqrt(dc.shape[0]))"
   ]
  },
  {
   "cell_type": "markdown",
   "metadata": {},
   "source": [
    "Next we have a modified version of the simulation above.  We\n",
    "introduce missing values into BMI and SBP, and then\n",
    "impute the missing values multiple times.  We then take the mean of log transformed\n",
    "BMI for each dataset, and the sampling variance of this\n",
    "quantity.  Finally, we use the combining rules to produce\n",
    "an estimate of the overall uncertainty in the estimate of\n",
    "the expected value of log BMI.  Since we are imputing BMI,\n",
    "but analyzing log BMI, we cannot simply use the covariance\n",
    "matrix from the MI procedure, as in the example above."
   ]
  },
  {
   "cell_type": "code",
   "execution_count": 10,
   "metadata": {},
   "outputs": [
    {
     "name": "stderr",
     "output_type": "stream",
     "text": [
      "/nfs/kshedden/python3/lib/python3.7/site-packages/pandas/core/series.py:853: RuntimeWarning: invalid value encountered in log\n",
      "  result = getattr(ufunc, method)(*inputs, **kwargs)\n"
     ]
    },
    {
     "name": "stdout",
     "output_type": "stream",
     "text": [
      "3.3536019378556396 0.0036617845448228474\n"
     ]
    },
    {
     "name": "stdout",
     "output_type": "stream",
     "text": [
      "3.3536123951751136 0.004235657494170672\n"
     ]
    },
    {
     "name": "stdout",
     "output_type": "stream",
     "text": [
      "3.3426949926268628 0.005606378154698827\n"
     ]
    }
   ],
   "source": [
    "for f in 0.2, 0.4, 0.6:\n",
    "\n",
    "    # Introduce missing values, at rate equal to f.\n",
    "\tdy = dx.copy()\n",
    "\tfor j in 0, 1:\n",
    "\t\tii = np.flatnonzero(np.random.uniform(size=dy.shape[0]) < f)\n",
    "\t\tdy.iloc[ii, j] = np.nan\n",
    "\n",
    "    # Set up an imputer\n",
    "\tbm = BayesGaussMI(dy, mean_prior=100*np.eye(2), cov_prior=100*np.eye(2))\n",
    "\n",
    "    # Burn in the imputer\n",
    "\tfor k in range(100):\n",
    "\t    bm.update()\n",
    "\n",
    "    # Generate 200 samples from the posterior distribution of the\n",
    "    # covariance matrix\n",
    "\tlm = []\n",
    "\tfor k in range(200):\n",
    "\t    bm.update()\n",
    "\t    lbmi = np.log(bm.data.BMXBMI)\n",
    "\t    lm.append([lbmi.mean(), lbmi.var()/len(lbmi)])\n",
    "\tlm = np.asarray(lm)\n",
    "\n",
    "\tprint(lm[:, 0].mean(), np.sqrt(lm[:, 1].mean() + lm[:, 0].var()))"
   ]
  },
  {
   "cell_type": "markdown",
   "metadata": {},
   "source": [
    "The goal of any imputation analysis is to recover information from\n",
    "\"partially observed\" cases.  Here, a partially observed case is a\n",
    "person for whom either the blood pressure or BMI value (but not\n",
    "both) is missing.  Depending on the specific statistic that is being\n",
    "calculated (or model that is being fit), the benefit of recovering\n",
    "information from partially observed observations can be substantial,\n",
    "or quite small.\n",
    "\n",
    "Since the missing data values are introduced into random locations,\n",
    "and the MI procedure is itself stochastic, the results of this\n",
    "simulation study will vary from run to run.  In general, the\n",
    "complete case standard error and MI \"standard error\" (which is\n",
    "actually a posterior standard deviation) are quite similar, but the\n",
    "complete case standard error tends to be the slightly larger of the\n",
    "two.  In this setting, the observations with only one value\n",
    "contribute to the MI analysis but not to the complete case analysis.\n",
    "It turns out that retaining these cases only provides a small amount\n",
    "of information that is relevant for estimating the correlation\n",
    "coefficient."
   ]
  },
  {
   "cell_type": "markdown",
   "metadata": {},
   "source": [
    "# Multiple imputation for regression"
   ]
  },
  {
   "cell_type": "markdown",
   "metadata": {},
   "source": [
    "The MI class can automate the process of applying multiple\n",
    "imputation to a dataset and using the \"combining rules\" to produce a\n",
    "single set of parameter estimates and standard errors.  We will\n",
    "illustrate this for the task of using linear regression to explore\n",
    "the conditional relationship of blood pressure given BMI, age, and\n",
    "gender."
   ]
  },
  {
   "cell_type": "markdown",
   "metadata": {},
   "source": [
    "First, we subset the data that we will be using."
   ]
  },
  {
   "cell_type": "code",
   "execution_count": 11,
   "metadata": {},
   "outputs": [
    {
     "name": "stdout",
     "output_type": "stream",
     "text": [
      "(5735, 4)\n",
      "BPXSY1      334\n",
      "BMXBMI       73\n",
      "RIDAGEYR      0\n",
      "RIAGENDR      0\n",
      "dtype: int64\n"
     ]
    }
   ],
   "source": [
    "dx = da.loc[:, [\"BPXSY1\", \"BMXBMI\", \"RIDAGEYR\", \"RIAGENDR\"]]\n",
    "\n",
    "print(dx.shape)\n",
    "print(pd.isnull(dx).sum(0))"
   ]
  },
  {
   "cell_type": "markdown",
   "metadata": {},
   "source": [
    "Only a handful of values are missing, so for illustration purposes,\n",
    "we introduce additional missing values into the age and BMI\n",
    "variables."
   ]
  },
  {
   "cell_type": "code",
   "execution_count": 12,
   "metadata": {},
   "outputs": [
    {
     "name": "stdout",
     "output_type": "stream",
     "text": [
      "BPXSY1      334\n",
      "BMXBMI      603\n",
      "RIDAGEYR    588\n",
      "RIAGENDR      0\n",
      "dtype: int64\n"
     ]
    }
   ],
   "source": [
    "ii = np.flatnonzero(np.random.uniform(size=dx.shape[0]) < 0.1)\n",
    "dx.loc[ii, \"RIDAGEYR\"] = np.nan\n",
    "\n",
    "ii = np.random.uniform(size=dx.shape[0]) < 0.1\n",
    "dx.loc[ii, \"BMXBMI\"] = np.nan\n",
    "\n",
    "print(pd.isnull(dx).sum(0))"
   ]
  },
  {
   "cell_type": "markdown",
   "metadata": {},
   "source": [
    "Now we are ready to go:"
   ]
  },
  {
   "cell_type": "code",
   "execution_count": 13,
   "metadata": {},
   "outputs": [
    {
     "name": "stdout",
     "output_type": "stream",
     "text": [
      "                 Results: Ordinary least squares\n",
      "=================================================================\n",
      "Method:                    MI          Sample size:          5735\n",
      "Model:                     OLS         Num. imputations      20  \n",
      "Dependent variable:        BPXSY1                                \n",
      "-----------------------------------------------------------------\n",
      "           Coef.  Std.Err.    t    P>|t|   [0.025  0.975]   FMI  \n",
      "-----------------------------------------------------------------\n",
      "Intercept 99.8122   1.3192 75.6611 0.0000 97.2266 102.3977 0.1679\n",
      "BMXBMI     0.3062   0.0348  8.7974 0.0000  0.2379   0.3744 0.2323\n",
      "RIDAGEYR   0.4557   0.0125 36.5261 0.0000  0.4313   0.4802 0.1285\n",
      "RIAGENDR  -3.7659   0.4494 -8.3804 0.0000 -4.6467  -2.8852 0.0913\n",
      "=================================================================\n",
      "\n"
     ]
    }
   ],
   "source": [
    "v = np.r_[100, 30, 40, 1]\n",
    "bm = BayesGaussMI(dx, mean_prior=np.diag(v), cov_prior=np.diag(v))\n",
    "\n",
    "def model_kwds_fn(x):\n",
    "    return {\"data\": x}\n",
    "\n",
    "mi = MI(bm, sm.OLS, formula=\"BPXSY1 ~ BMXBMI + RIDAGEYR + RIAGENDR\",\n",
    "        burn=0, model_kwds_fn=model_kwds_fn)\n",
    "mir = mi.fit()\n",
    "\n",
    "print(mir.summary())"
   ]
  },
  {
   "cell_type": "markdown",
   "metadata": {},
   "source": [
    "Note that the multiple imputation results show the full sample size,\n",
    "indicating that no cases were dropped (as in a complete case\n",
    "analysis)."
   ]
  },
  {
   "cell_type": "markdown",
   "metadata": {},
   "source": [
    "# MICE"
   ]
  },
  {
   "cell_type": "markdown",
   "metadata": {},
   "source": [
    "Multiple Imputation with Chained Equations (MICE) is a\n",
    "regression-based framework for imputing missing values that allows\n",
    "us to specify arbitrary regression models for imputing each\n",
    "variable's missing values from the other variables."
   ]
  },
  {
   "cell_type": "markdown",
   "metadata": {},
   "source": [
    "One common workflow with MICE is to create a set of imputed\n",
    "datasets, then save them as files.  They can then be retrieved later\n",
    "and used in an MI analysis using the \"combining rules\".  This\n",
    "workflow is illustrated below."
   ]
  },
  {
   "cell_type": "code",
   "execution_count": 14,
   "metadata": {},
   "outputs": [],
   "source": [
    "dx = da.copy()\n",
    "dx = dx.loc[:, [\"BMXBMI\", \"BPXSY1\", \"RIAGENDR\", \"RIDAGEYR\"]]\n",
    "\n",
    "# Recode to 0 (male), 1 (female)\n",
    "dx.RIAGENDR -= 1\n",
    "\n",
    "# Introduce some missing values\n",
    "for k in range(dx.shape[1]):\n",
    "    ii = np.flatnonzero(np.random.uniform(size=dx.shape[0]) < 0.1)\n",
    "    dx.iloc[ii, k] = np.nan\n",
    "\n",
    "imp_data = mice.MICEData(dx)\n",
    "imp_data.set_imputer(\"BMXBMI\", \"RIDAGEYR + RIAGENDR\")\n",
    "imp_data.set_imputer(\"RIAGENDR\", \"BPXSY1 + RIDAGEYR + BMXBMI\", model_class=sm.GLM,\n",
    "                     init_kwds={\"family\": sm.families.Binomial()})\n",
    "\n",
    "for j in range(10):\n",
    "    imp_data.update_all()\n",
    "\n",
    "    # Uncomment this line to save the files.\n",
    "    #imp_data.to_csv('data%02d.csv' % j)"
   ]
  },
  {
   "cell_type": "markdown",
   "metadata": {},
   "source": [
    "Another common workflow is to combine the data imputation, modeling\n",
    "and results combination together."
   ]
  },
  {
   "cell_type": "code",
   "execution_count": 15,
   "metadata": {},
   "outputs": [
    {
     "name": "stdout",
     "output_type": "stream",
     "text": [
      "                         Results: MICE\n",
      "================================================================\n",
      "Method:                   MICE       Sample size:         5734  \n",
      "Model:                    OLS        Scale                258.93\n",
      "Dependent variable:       BPXSY1     Num. imputations     10    \n",
      "----------------------------------------------------------------\n",
      "           Coef.  Std.Err.    t    P>|t|   [0.025  0.975]  FMI  \n",
      "----------------------------------------------------------------\n",
      "Intercept 96.5985   1.1731 82.3454 0.0000 94.2992 98.8977 0.2068\n",
      "RIDAGEYR   0.4673   0.0133 35.1179 0.0000  0.4412  0.4934 0.2507\n",
      "RIAGENDR  -3.7378   0.5062 -7.3842 0.0000 -4.7299 -2.7457 0.2880\n",
      "BMXBMI     0.2682   0.0363  7.3813 0.0000  0.1970  0.3395 0.3235\n",
      "================================================================\n",
      "\n"
     ]
    }
   ],
   "source": [
    "dx = da.copy()\n",
    "dx = dx.loc[:, [\"BMXBMI\", \"BPXSY1\", \"RIAGENDR\", \"RIDAGEYR\"]]\n",
    "\n",
    "# Recode to 0 (male), 1 (female)\n",
    "dx.RIAGENDR -= 1\n",
    "\n",
    "# Introduce some missing values\n",
    "for k in range(dx.shape[1]):\n",
    "    ii = np.flatnonzero(np.random.uniform(size=dx.shape[0]) < 0.1)\n",
    "    dx.iloc[ii, k] = np.nan\n",
    "\n",
    "imp_data = mice.MICEData(dx)\n",
    "imp_data.set_imputer(\"BMXBMI\", \"RIDAGEYR + RIAGENDR\")\n",
    "imp_data.set_imputer(\"RIAGENDR\", \"BPXSY1 + RIDAGEYR + BMXBMI\", model_class=sm.GLM,\n",
    "                     init_kwds={\"families\": sm.families.Binomial()})\n",
    "\n",
    "mi = mice.MICE(\"BPXSY1 ~ RIDAGEYR + RIAGENDR + BMXBMI\", sm.OLS, imp_data, n_skip=1)\n",
    "result = mi.fit(10, 10)\n",
    "\n",
    "print(result.summary())"
   ]
  }
 ],
 "metadata": {
  "jupytext": {
   "cell_metadata_filter": "-all"
  },
  "kernelspec": {
   "display_name": "Python 3",
   "language": "python",
   "name": "python3"
  },
  "language_info": {
   "codemirror_mode": {
    "name": "ipython",
    "version": 3
   },
   "file_extension": ".py",
   "mimetype": "text/x-python",
   "name": "python",
   "nbconvert_exporter": "python",
   "pygments_lexer": "ipython3",
   "version": "3.7.3"
  }
 },
 "nbformat": 4,
 "nbformat_minor": 2
}
